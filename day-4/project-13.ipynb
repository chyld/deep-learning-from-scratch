{
 "cells": [
  {
   "cell_type": "code",
   "execution_count": 1,
   "metadata": {},
   "outputs": [
    {
     "name": "stderr",
     "output_type": "stream",
     "text": [
      "/home/ubuntu/anaconda3/envs/tensorflow_p36/lib/python3.6/site-packages/h5py/__init__.py:36: FutureWarning: Conversion of the second argument of issubdtype from `float` to `np.floating` is deprecated. In future, it will be treated as `np.float64 == np.dtype(float).type`.\n",
      "  from ._conv import register_converters as _register_converters\n"
     ]
    },
    {
     "name": "stdout",
     "output_type": "stream",
     "text": [
      "/device:CPU:0 \n",
      "/device:GPU:0 device: 0, name: Tesla V100-SXM2-16GB, pci bus id: 0000:00:17.0, compute capability: 7.0\n",
      "/device:GPU:1 device: 1, name: Tesla V100-SXM2-16GB, pci bus id: 0000:00:18.0, compute capability: 7.0\n",
      "/device:GPU:2 device: 2, name: Tesla V100-SXM2-16GB, pci bus id: 0000:00:19.0, compute capability: 7.0\n",
      "/device:GPU:3 device: 3, name: Tesla V100-SXM2-16GB, pci bus id: 0000:00:1a.0, compute capability: 7.0\n",
      "/device:GPU:4 device: 4, name: Tesla V100-SXM2-16GB, pci bus id: 0000:00:1b.0, compute capability: 7.0\n",
      "/device:GPU:5 device: 5, name: Tesla V100-SXM2-16GB, pci bus id: 0000:00:1c.0, compute capability: 7.0\n",
      "/device:GPU:6 device: 6, name: Tesla V100-SXM2-16GB, pci bus id: 0000:00:1d.0, compute capability: 7.0\n",
      "/device:GPU:7 device: 7, name: Tesla V100-SXM2-16GB, pci bus id: 0000:00:1e.0, compute capability: 7.0\n"
     ]
    }
   ],
   "source": [
    "# checking for tensorflow devices\n",
    "from tensorflow.python.client import device_lib\n",
    "for d in device_lib.list_local_devices():\n",
    "    print(d.name, d.physical_device_desc)"
   ]
  },
  {
   "cell_type": "code",
   "execution_count": 2,
   "metadata": {},
   "outputs": [
    {
     "name": "stderr",
     "output_type": "stream",
     "text": [
      "Using TensorFlow backend.\n"
     ]
    }
   ],
   "source": [
    "import numpy as np\n",
    "import pandas as pd\n",
    "import keras\n",
    "from keras.preprocessing import sequence, text\n",
    "from keras.models import Sequential\n",
    "from keras.layers import Dense, Embedding, SpatialDropout1D\n",
    "from keras.layers import LSTM\n",
    "from keras.datasets import imdb, reuters\n",
    "from keras.utils import to_categorical, multi_gpu_model\n",
    "import matplotlib.pyplot as plt\n",
    "%matplotlib inline"
   ]
  },
  {
   "cell_type": "markdown",
   "metadata": {},
   "source": [
    "# Getting the data\n",
    "\n",
    "***\n",
    "***\n",
    "***"
   ]
  },
  {
   "cell_type": "code",
   "execution_count": 3,
   "metadata": {},
   "outputs": [],
   "source": [
    "with open('data/alice-in-wonderland') as f:\n",
    "    book = f.read()"
   ]
  },
  {
   "cell_type": "code",
   "execution_count": 4,
   "metadata": {},
   "outputs": [],
   "source": [
    "words = text.text_to_word_sequence(book)"
   ]
  },
  {
   "cell_type": "code",
   "execution_count": 5,
   "metadata": {},
   "outputs": [
    {
     "data": {
      "text/plain": [
       "'I--DOWN THE RABBIT-HOLE\\n\\n\\nAlice was beginning to get very tired of sitting by her sister on the\\nbank, and of having nothing to do. Once or twice she had peeped into the\\nbook her sister was reading, but it had no pictures or conversations in\\nit, \"and what is the use of a book,\" thought Alice, \"withou'"
      ]
     },
     "execution_count": 5,
     "metadata": {},
     "output_type": "execute_result"
    }
   ],
   "source": [
    "book[:300]"
   ]
  },
  {
   "cell_type": "code",
   "execution_count": 6,
   "metadata": {},
   "outputs": [
    {
     "data": {
      "text/plain": [
       "['i',\n",
       " 'down',\n",
       " 'the',\n",
       " 'rabbit',\n",
       " 'hole',\n",
       " 'alice',\n",
       " 'was',\n",
       " 'beginning',\n",
       " 'to',\n",
       " 'get']"
      ]
     },
     "execution_count": 6,
     "metadata": {},
     "output_type": "execute_result"
    }
   ],
   "source": [
    "words[:10]"
   ]
  },
  {
   "cell_type": "code",
   "execution_count": 7,
   "metadata": {},
   "outputs": [
    {
     "name": "stdout",
     "output_type": "stream",
     "text": [
      "unique words: 1533\n",
      "total words: 9829\n"
     ]
    }
   ],
   "source": [
    "unique_words = set(words)\n",
    "n_unique_words = len(unique_words)\n",
    "n_words = len(words)\n",
    "\n",
    "print('unique words:', n_unique_words)\n",
    "print('total words:', n_words)"
   ]
  },
  {
   "cell_type": "code",
   "execution_count": 8,
   "metadata": {},
   "outputs": [],
   "source": [
    "word_to_index = {w:i for i, w in enumerate(unique_words)}\n",
    "index_to_word = {v:k for k,v in word_to_index.items()}"
   ]
  },
  {
   "cell_type": "code",
   "execution_count": 9,
   "metadata": {},
   "outputs": [
    {
     "data": {
      "text/plain": [
       "[('imagine', 0),\n",
       " ('leap', 1),\n",
       " ('noticed', 2),\n",
       " ('instead', 3),\n",
       " ('hand', 4),\n",
       " ('knave', 5),\n",
       " ('very', 6),\n",
       " ('finger', 7),\n",
       " ('shaped', 8),\n",
       " ('yards', 9)]"
      ]
     },
     "execution_count": 9,
     "metadata": {},
     "output_type": "execute_result"
    }
   ],
   "source": [
    "list(word_to_index.items())[:10]"
   ]
  },
  {
   "cell_type": "code",
   "execution_count": 10,
   "metadata": {},
   "outputs": [
    {
     "data": {
      "text/plain": [
       "[(0, 'imagine'),\n",
       " (1, 'leap'),\n",
       " (2, 'noticed'),\n",
       " (3, 'instead'),\n",
       " (4, 'hand'),\n",
       " (5, 'knave'),\n",
       " (6, 'very'),\n",
       " (7, 'finger'),\n",
       " (8, 'shaped'),\n",
       " (9, 'yards')]"
      ]
     },
     "execution_count": 10,
     "metadata": {},
     "output_type": "execute_result"
    }
   ],
   "source": [
    "list(index_to_word.items())[:10]"
   ]
  },
  {
   "cell_type": "code",
   "execution_count": 11,
   "metadata": {},
   "outputs": [],
   "source": [
    "def doc_generator(docs, offsets):\n",
    "    X_w = []\n",
    "    Y_w = []\n",
    "    for offset in range(offsets):\n",
    "        for doc in range(docs):\n",
    "            x = words[doc*10+offset:doc*10+offset+10]\n",
    "            y = x.pop()\n",
    "            X_w.append(x)\n",
    "            Y_w.append(y)        \n",
    "    return (\n",
    "        X_w,\n",
    "        Y_w,\n",
    "        np.array([[word_to_index[word] for word in doc] for doc in X_w]), \n",
    "        to_categorical(np.array([word_to_index[word] for word in Y_w]))\n",
    "    )"
   ]
  },
  {
   "cell_type": "code",
   "execution_count": 12,
   "metadata": {},
   "outputs": [],
   "source": [
    "# generate lots of documents and the resulting predicted next word\n",
    "X_w, Y_w, X_i, Y_i = doc_generator(950, 200)"
   ]
  },
  {
   "cell_type": "code",
   "execution_count": 13,
   "metadata": {},
   "outputs": [
    {
     "data": {
      "text/plain": [
       "190000"
      ]
     },
     "execution_count": 13,
     "metadata": {},
     "output_type": "execute_result"
    }
   ],
   "source": [
    "# total documents\n",
    "len(X_w)"
   ]
  },
  {
   "cell_type": "code",
   "execution_count": 14,
   "metadata": {},
   "outputs": [
    {
     "data": {
      "text/plain": [
       "[['i', 'down', 'the', 'rabbit', 'hole', 'alice', 'was', 'beginning', 'to'],\n",
       " ['very', 'tired', 'of', 'sitting', 'by', 'her', 'sister', 'on', 'the'],\n",
       " ['and', 'of', 'having', 'nothing', 'to', 'do', 'once', 'or', 'twice'],\n",
       " ['had', 'peeped', 'into', 'the', 'book', 'her', 'sister', 'was', 'reading'],\n",
       " ['it', 'had', 'no', 'pictures', 'or', 'conversations', 'in', 'it', 'and'],\n",
       " ['is', 'the', 'use', 'of', 'a', 'book', 'thought', 'alice', 'without'],\n",
       " ['or',\n",
       "  'conversations',\n",
       "  'so',\n",
       "  'she',\n",
       "  'was',\n",
       "  'considering',\n",
       "  'in',\n",
       "  'her',\n",
       "  'own'],\n",
       " ['as', 'well', 'as', 'she', 'could', 'for', 'the', 'day', 'made'],\n",
       " ['feel',\n",
       "  'very',\n",
       "  'sleepy',\n",
       "  'and',\n",
       "  'stupid',\n",
       "  'whether',\n",
       "  'the',\n",
       "  'pleasure',\n",
       "  'of'],\n",
       " ['a', 'daisy', 'chain', 'would', 'be', 'worth', 'the', 'trouble', 'of']]"
      ]
     },
     "execution_count": 14,
     "metadata": {},
     "output_type": "execute_result"
    }
   ],
   "source": [
    "X_w[:10]"
   ]
  },
  {
   "cell_type": "code",
   "execution_count": 15,
   "metadata": {},
   "outputs": [
    {
     "data": {
      "text/plain": [
       "['get',\n",
       " 'bank',\n",
       " 'she',\n",
       " 'but',\n",
       " 'what',\n",
       " 'pictures',\n",
       " 'mind',\n",
       " 'her',\n",
       " 'making',\n",
       " 'getting']"
      ]
     },
     "execution_count": 15,
     "metadata": {},
     "output_type": "execute_result"
    }
   ],
   "source": [
    "Y_w[:10]"
   ]
  },
  {
   "cell_type": "code",
   "execution_count": 16,
   "metadata": {},
   "outputs": [
    {
     "data": {
      "text/plain": [
       "array([[ 786, 1405,  726,  748, 1071, 1436,  963,  890,  927],\n",
       "       [   6, 1278, 1158,  608, 1120,  700, 1217, 1155,  726],\n",
       "       [1513, 1158,  473, 1195,  927,  631,  373,  655,  907],\n",
       "       [ 272,  958, 1214,  726,  428,  700, 1217,  963,  451],\n",
       "       [ 175,  272,  939,  204,  655, 1198, 1011,  175, 1513],\n",
       "       [ 310,  726,   52, 1158,  614,  428,   66, 1436,  229],\n",
       "       [ 655, 1198, 1307, 1213,  963,   15, 1011,  700,  584],\n",
       "       [1263,   50, 1263, 1213,  949,  431,  726,  876, 1207],\n",
       "       [1076,    6,  713, 1513,  745, 1300,  726,  164, 1158],\n",
       "       [ 614, 1259,  372, 1246, 1009,  653,  726,  765, 1158]])"
      ]
     },
     "execution_count": 16,
     "metadata": {},
     "output_type": "execute_result"
    }
   ],
   "source": [
    "X_i[:10]"
   ]
  },
  {
   "cell_type": "code",
   "execution_count": 17,
   "metadata": {},
   "outputs": [
    {
     "data": {
      "text/plain": [
       "array([[0., 0., 0., ..., 0., 0., 0.],\n",
       "       [0., 0., 0., ..., 0., 0., 0.],\n",
       "       [0., 0., 0., ..., 0., 0., 0.],\n",
       "       ...,\n",
       "       [0., 0., 0., ..., 0., 0., 0.],\n",
       "       [0., 0., 0., ..., 0., 0., 0.],\n",
       "       [0., 0., 0., ..., 0., 0., 0.]], dtype=float32)"
      ]
     },
     "execution_count": 17,
     "metadata": {},
     "output_type": "execute_result"
    }
   ],
   "source": [
    "Y_i[:10]"
   ]
  },
  {
   "cell_type": "code",
   "execution_count": 18,
   "metadata": {},
   "outputs": [
    {
     "data": {
      "text/plain": [
       "(190000, 1533)"
      ]
     },
     "execution_count": 18,
     "metadata": {},
     "output_type": "execute_result"
    }
   ],
   "source": [
    "Y_i.shape"
   ]
  },
  {
   "cell_type": "markdown",
   "metadata": {},
   "source": [
    "# Building the model\n",
    "\n",
    "***\n",
    "***\n",
    "***"
   ]
  },
  {
   "cell_type": "code",
   "execution_count": 19,
   "metadata": {},
   "outputs": [
    {
     "name": "stdout",
     "output_type": "stream",
     "text": [
      "_________________________________________________________________\n",
      "Layer (type)                 Output Shape              Param #   \n",
      "=================================================================\n",
      "embedding_1 (Embedding)      (None, 9, 128)            196224    \n",
      "_________________________________________________________________\n",
      "lstm_1 (LSTM)                (None, 128)               131584    \n",
      "_________________________________________________________________\n",
      "dense_1 (Dense)              (None, 1533)              197757    \n",
      "=================================================================\n",
      "Total params: 525,565\n",
      "Trainable params: 525,565\n",
      "Non-trainable params: 0\n",
      "_________________________________________________________________\n"
     ]
    }
   ],
   "source": [
    "model = Sequential()\n",
    "model.add(Embedding(n_unique_words, 128, input_length=9))\n",
    "model.add(LSTM(128, dropout=0.5, recurrent_dropout=0.5))\n",
    "model.add(Dense(n_unique_words, activation='softmax'))\n",
    "model.summary()"
   ]
  },
  {
   "cell_type": "code",
   "execution_count": 20,
   "metadata": {},
   "outputs": [
    {
     "name": "stdout",
     "output_type": "stream",
     "text": [
      "__________________________________________________________________________________________________\n",
      "Layer (type)                    Output Shape         Param #     Connected to                     \n",
      "==================================================================================================\n",
      "embedding_1_input (InputLayer)  (None, 9)            0                                            \n",
      "__________________________________________________________________________________________________\n",
      "lambda_1 (Lambda)               (None, 9)            0           embedding_1_input[0][0]          \n",
      "__________________________________________________________________________________________________\n",
      "lambda_2 (Lambda)               (None, 9)            0           embedding_1_input[0][0]          \n",
      "__________________________________________________________________________________________________\n",
      "lambda_3 (Lambda)               (None, 9)            0           embedding_1_input[0][0]          \n",
      "__________________________________________________________________________________________________\n",
      "lambda_4 (Lambda)               (None, 9)            0           embedding_1_input[0][0]          \n",
      "__________________________________________________________________________________________________\n",
      "lambda_5 (Lambda)               (None, 9)            0           embedding_1_input[0][0]          \n",
      "__________________________________________________________________________________________________\n",
      "lambda_6 (Lambda)               (None, 9)            0           embedding_1_input[0][0]          \n",
      "__________________________________________________________________________________________________\n",
      "lambda_7 (Lambda)               (None, 9)            0           embedding_1_input[0][0]          \n",
      "__________________________________________________________________________________________________\n",
      "lambda_8 (Lambda)               (None, 9)            0           embedding_1_input[0][0]          \n",
      "__________________________________________________________________________________________________\n",
      "sequential_1 (Sequential)       (None, 1533)         525565      lambda_1[0][0]                   \n",
      "                                                                 lambda_2[0][0]                   \n",
      "                                                                 lambda_3[0][0]                   \n",
      "                                                                 lambda_4[0][0]                   \n",
      "                                                                 lambda_5[0][0]                   \n",
      "                                                                 lambda_6[0][0]                   \n",
      "                                                                 lambda_7[0][0]                   \n",
      "                                                                 lambda_8[0][0]                   \n",
      "__________________________________________________________________________________________________\n",
      "dense_1 (Concatenate)           (None, 1533)         0           sequential_1[1][0]               \n",
      "                                                                 sequential_1[2][0]               \n",
      "                                                                 sequential_1[3][0]               \n",
      "                                                                 sequential_1[4][0]               \n",
      "                                                                 sequential_1[5][0]               \n",
      "                                                                 sequential_1[6][0]               \n",
      "                                                                 sequential_1[7][0]               \n",
      "                                                                 sequential_1[8][0]               \n",
      "==================================================================================================\n",
      "Total params: 525,565\n",
      "Trainable params: 525,565\n",
      "Non-trainable params: 0\n",
      "__________________________________________________________________________________________________\n"
     ]
    }
   ],
   "source": [
    "# making the sequential model run across multiple GPUs\n",
    "parallel_model = multi_gpu_model(model, 8)\n",
    "parallel_model.compile(loss='categorical_crossentropy', optimizer='adam', metrics=['accuracy'])\n",
    "parallel_model.summary()"
   ]
  },
  {
   "cell_type": "code",
   "execution_count": 21,
   "metadata": {
    "scrolled": false
   },
   "outputs": [
    {
     "name": "stdout",
     "output_type": "stream",
     "text": [
      "Train on 133000 samples, validate on 57000 samples\n",
      "Epoch 1/10\n",
      "133000/133000 [==============================] - 405s 3ms/step - loss: 4.9674 - acc: 0.1240 - val_loss: 3.6243 - val_acc: 0.2435\n",
      "Epoch 2/10\n",
      "133000/133000 [==============================] - 412s 3ms/step - loss: 3.1143 - acc: 0.3205 - val_loss: 2.1183 - val_acc: 0.5192\n",
      "Epoch 3/10\n",
      "133000/133000 [==============================] - 412s 3ms/step - loss: 2.1228 - acc: 0.5031 - val_loss: 1.3351 - val_acc: 0.6996\n",
      "Epoch 4/10\n",
      "133000/133000 [==============================] - 412s 3ms/step - loss: 1.5706 - acc: 0.6160 - val_loss: 0.8695 - val_acc: 0.8142\n",
      "Epoch 5/10\n",
      "133000/133000 [==============================] - 410s 3ms/step - loss: 1.2187 - acc: 0.6938 - val_loss: 0.5824 - val_acc: 0.8851\n",
      "Epoch 6/10\n",
      "133000/133000 [==============================] - 409s 3ms/step - loss: 0.9857 - acc: 0.7460 - val_loss: 0.4039 - val_acc: 0.9257\n",
      "Epoch 7/10\n",
      "133000/133000 [==============================] - 408s 3ms/step - loss: 0.8254 - acc: 0.7815 - val_loss: 0.2930 - val_acc: 0.9522\n",
      "Epoch 8/10\n",
      "133000/133000 [==============================] - 406s 3ms/step - loss: 0.7074 - acc: 0.8086 - val_loss: 0.2172 - val_acc: 0.9691\n",
      "Epoch 9/10\n",
      "133000/133000 [==============================] - 406s 3ms/step - loss: 0.6192 - acc: 0.8307 - val_loss: 0.1720 - val_acc: 0.9782\n",
      "Epoch 10/10\n",
      "133000/133000 [==============================] - 408s 3ms/step - loss: 0.5600 - acc: 0.8440 - val_loss: 0.1378 - val_acc: 0.9833\n"
     ]
    }
   ],
   "source": [
    "history = parallel_model.fit(X_i, Y_i,\n",
    "          batch_size=32,\n",
    "          epochs=10,\n",
    "          verbose=1, validation_split=0.3, shuffle=True)"
   ]
  },
  {
   "cell_type": "code",
   "execution_count": 23,
   "metadata": {},
   "outputs": [
    {
     "data": {
      "image/png": "[encoded data removed]",
      "text/plain": [
       "<Figure size 864x504 with 3 Axes>"
      ]
     },
     "metadata": {},
     "output_type": "display_data"
    }
   ],
   "source": [
    "fig, ax1 = plt.subplots(1,1,figsize=(12,7))\n",
    "ax1.plot(history.epoch, history.history['loss'], marker='^', color='purple')\n",
    "ax1.set_xlabel('epochs')\n",
    "ax1.set_ylabel('loss', color='purple')\n",
    "ax1.tick_params('y', colors='purple')\n",
    "\n",
    "ax2 = ax1.twinx()\n",
    "plt.plot(history.epoch, history.history['acc'], marker='+', color='green', label='train')\n",
    "ax2.set_ylim(0,1)\n",
    "\n",
    "ax3 = ax1.twinx()\n",
    "plt.plot(history.epoch, history.history['val_acc'], marker='*', color='red', label='validation')\n",
    "ax3.set_ylim(0,1)\n",
    "\n",
    "fig.suptitle('alice in wonderland');\n",
    "fig.legend();"
   ]
  },
  {
   "cell_type": "code",
   "execution_count": 24,
   "metadata": {},
   "outputs": [],
   "source": [
    "model.save('alice.h5')"
   ]
  },
  {
   "cell_type": "markdown",
   "metadata": {},
   "source": [
    "# Model predictions\n",
    "\n",
    "***\n",
    "***\n",
    "***"
   ]
  },
  {
   "cell_type": "code",
   "execution_count": 39,
   "metadata": {},
   "outputs": [],
   "source": [
    "sample = [ 786, 1405,  726,  748, 1071, 1436,  963,  890,  927]"
   ]
  },
  {
   "cell_type": "code",
   "execution_count": 40,
   "metadata": {},
   "outputs": [
    {
     "data": {
      "text/plain": [
       "'i down the rabbit hole alice was beginning to'"
      ]
     },
     "execution_count": 40,
     "metadata": {},
     "output_type": "execute_result"
    }
   ],
   "source": [
    "' '.join([index_to_word[s] for s in sample])"
   ]
  },
  {
   "cell_type": "code",
   "execution_count": 43,
   "metadata": {},
   "outputs": [
    {
     "data": {
      "text/plain": [
       "array([[3.2803247e-09, 3.9248893e-09, 5.2023375e-07, ..., 3.1371780e-13,\n",
       "        1.1916906e-09, 7.4769631e-14]], dtype=float32)"
      ]
     },
     "execution_count": 43,
     "metadata": {},
     "output_type": "execute_result"
    }
   ],
   "source": [
    "pred = model.predict(np.array([sample]))\n",
    "pred"
   ]
  },
  {
   "cell_type": "code",
   "execution_count": 44,
   "metadata": {},
   "outputs": [
    {
     "data": {
      "text/plain": [
       "934"
      ]
     },
     "execution_count": 44,
     "metadata": {},
     "output_type": "execute_result"
    }
   ],
   "source": [
    "pred.argmax()"
   ]
  },
  {
   "cell_type": "code",
   "execution_count": 51,
   "metadata": {},
   "outputs": [
    {
     "data": {
      "text/plain": [
       "array([ 934,   46,  464,  231, 1016])"
      ]
     },
     "execution_count": 51,
     "metadata": {},
     "output_type": "execute_result"
    }
   ],
   "source": [
    "top5 = pred.argsort()[0][::-1][:5]\n",
    "top5"
   ]
  },
  {
   "cell_type": "code",
   "execution_count": 52,
   "metadata": {},
   "outputs": [
    {
     "data": {
      "text/plain": [
       "['know', 'put', 'make', 'grow', 'fall']"
      ]
     },
     "execution_count": 52,
     "metadata": {},
     "output_type": "execute_result"
    }
   ],
   "source": [
    "[index_to_word[t] for t in top5]"
   ]
  },
  {
   "cell_type": "code",
   "execution_count": null,
   "metadata": {},
   "outputs": [],
   "source": []
  }
 ],
 "metadata": {
  "kernelspec": {
   "display_name": "Environment (conda_tensorflow_p36)",
   "language": "python",
   "name": "conda_tensorflow_p36"
  },
  "language_info": {
   "codemirror_mode": {
    "name": "ipython",
    "version": 3
   },
   "file_extension": ".py",
   "mimetype": "text/x-python",
   "name": "python",
   "nbconvert_exporter": "python",
   "pygments_lexer": "ipython3",
   "version": "3.6.4"
  }
 },
 "nbformat": 4,
 "nbformat_minor": 2
}
