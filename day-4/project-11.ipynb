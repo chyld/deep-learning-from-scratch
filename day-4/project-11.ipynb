{
 "cells": [
  {
   "cell_type": "code",
   "execution_count": 22,
   "metadata": {},
   "outputs": [],
   "source": [
    "import numpy as np\n",
    "import pandas as pd\n",
    "import keras\n",
    "from keras.preprocessing import sequence\n",
    "from keras.models import Sequential\n",
    "from keras.layers import Dense, Embedding, SpatialDropout1D\n",
    "from keras.layers import LSTM\n",
    "from keras.datasets import imdb\n",
    "import matplotlib.pyplot as plt\n",
    "%matplotlib inline"
   ]
  },
  {
   "cell_type": "code",
   "execution_count": 23,
   "metadata": {},
   "outputs": [],
   "source": [
    "max_words = 20_000\n",
    "line_length = 80\n",
    "batch_size = 32"
   ]
  },
  {
   "cell_type": "code",
   "execution_count": 24,
   "metadata": {},
   "outputs": [],
   "source": [
    "# http://ai.stanford.edu/~amaas/data/sentiment/\n",
    "(x_train, y_train), (x_test, y_test) = imdb.load_data(num_words=max_words)"
   ]
  },
  {
   "cell_type": "code",
   "execution_count": 25,
   "metadata": {},
   "outputs": [
    {
     "data": {
      "text/plain": [
       "(25000,)"
      ]
     },
     "execution_count": 25,
     "metadata": {},
     "output_type": "execute_result"
    }
   ],
   "source": [
    "# number of reviews\n",
    "x_train.shape"
   ]
  },
  {
   "cell_type": "code",
   "execution_count": 26,
   "metadata": {},
   "outputs": [
    {
     "name": "stdout",
     "output_type": "stream",
     "text": [
      "0 218\n",
      "1 189\n",
      "2 141\n",
      "3 550\n",
      "4 147\n",
      "5 43\n",
      "6 123\n",
      "7 562\n",
      "8 233\n",
      "9 130\n"
     ]
    }
   ],
   "source": [
    "# words in each review\n",
    "for i in range(10):\n",
    "    print(i, len(x_train[i]))"
   ]
  },
  {
   "cell_type": "code",
   "execution_count": 27,
   "metadata": {},
   "outputs": [
    {
     "data": {
      "text/plain": [
       "array([0, 1])"
      ]
     },
     "execution_count": 27,
     "metadata": {},
     "output_type": "execute_result"
    }
   ],
   "source": [
    "# sentiment, positive or negative\n",
    "np.unique(y_train)"
   ]
  },
  {
   "cell_type": "code",
   "execution_count": 28,
   "metadata": {},
   "outputs": [],
   "source": [
    "# mapping dictionaries\n",
    "word_to_id = imdb.get_word_index()\n",
    "id_to_word = {v:k for k,v in word_to_id.items()}"
   ]
  },
  {
   "cell_type": "code",
   "execution_count": 29,
   "metadata": {},
   "outputs": [
    {
     "data": {
      "text/plain": [
       "11"
      ]
     },
     "execution_count": 29,
     "metadata": {},
     "output_type": "execute_result"
    }
   ],
   "source": [
    "word_to_id['this']"
   ]
  },
  {
   "cell_type": "code",
   "execution_count": 30,
   "metadata": {},
   "outputs": [
    {
     "data": {
      "text/plain": [
       "'this'"
      ]
     },
     "execution_count": 30,
     "metadata": {},
     "output_type": "execute_result"
    }
   ],
   "source": [
    "id_to_word[11]"
   ]
  },
  {
   "cell_type": "code",
   "execution_count": 31,
   "metadata": {},
   "outputs": [],
   "source": [
    "id_to_word[0] = '<START>'"
   ]
  },
  {
   "cell_type": "code",
   "execution_count": 32,
   "metadata": {},
   "outputs": [],
   "source": [
    "def review(index):\n",
    "    return ' '.join([id_to_word[max(0, idx-3)] for idx in x_train[index]])"
   ]
  },
  {
   "cell_type": "code",
   "execution_count": 33,
   "metadata": {},
   "outputs": [
    {
     "data": {
      "text/plain": [
       "\"<START> this film was just brilliant casting location scenery story direction everyone's really suited the part they played and you could just imagine being there robert <START> is an amazing actor and now the same being director <START> father came from the same scottish island as myself so i loved the fact there was a real connection with this film the witty remarks throughout the film were great it was just brilliant so much that i bought the film as soon as it was released for retail and would recommend it to everyone to watch and the fly fishing was amazing really cried at the end it was so sad and you know what they say if you cry at a film it must have been good and this definitely was also congratulations to the two little boy's that played the <START> of norman and paul they were just brilliant children are often left out of the praising list i think because the stars that play them all grown up are such a big profile for the whole film but these children are amazing and should be praised for what they have done don't you think the whole story was so lovely because it was true and was someone's life after all that was shared with us all\""
      ]
     },
     "execution_count": 33,
     "metadata": {},
     "output_type": "execute_result"
    }
   ],
   "source": [
    "review(0)"
   ]
  },
  {
   "cell_type": "code",
   "execution_count": 34,
   "metadata": {},
   "outputs": [
    {
     "data": {
      "text/plain": [
       "1"
      ]
     },
     "execution_count": 34,
     "metadata": {},
     "output_type": "execute_result"
    }
   ],
   "source": [
    "y_train[0]"
   ]
  },
  {
   "cell_type": "code",
   "execution_count": 35,
   "metadata": {},
   "outputs": [],
   "source": [
    "# make all rows the same length\n",
    "x_train = sequence.pad_sequences(x_train, maxlen=line_length)\n",
    "x_test = sequence.pad_sequences(x_test, maxlen=line_length)"
   ]
  },
  {
   "cell_type": "code",
   "execution_count": 36,
   "metadata": {},
   "outputs": [
    {
     "data": {
      "text/plain": [
       "(25000, 80)"
      ]
     },
     "execution_count": 36,
     "metadata": {},
     "output_type": "execute_result"
    }
   ],
   "source": [
    "x_train.shape"
   ]
  },
  {
   "cell_type": "code",
   "execution_count": 37,
   "metadata": {},
   "outputs": [
    {
     "data": {
      "text/plain": [
       "array([[   15,   256,     4,     2,     7,  3766,     5,   723,    36,\n",
       "           71,    43,   530,   476,    26,   400,   317,    46,     7,\n",
       "            4, 12118,  1029,    13,   104,    88,     4,   381,    15,\n",
       "          297,    98,    32,  2071,    56,    26,   141,     6,   194,\n",
       "         7486,    18,     4,   226,    22,    21,   134,   476,    26,\n",
       "          480,     5,   144,    30,  5535,    18,    51,    36,    28,\n",
       "          224,    92,    25,   104,     4,   226,    65,    16,    38,\n",
       "         1334,    88,    12,    16,   283,     5,    16,  4472,   113,\n",
       "          103,    32,    15,    16,  5345,    19,   178,    32],\n",
       "       [  125,    68,     2,  6853,    15,   349,   165,  4362,    98,\n",
       "            5,     4,   228,     9,    43,     2,  1157,    15,   299,\n",
       "          120,     5,   120,   174,    11,   220,   175,   136,    50,\n",
       "            9,  4373,   228,  8255,     5,     2,   656,   245,  2350,\n",
       "            5,     4,  9837,   131,   152,   491,    18,     2,    32,\n",
       "         7464,  1212,    14,     9,     6,   371,    78,    22,   625,\n",
       "           64,  1382,     9,     8,   168,   145,    23,     4,  1690,\n",
       "           15,    16,     4,  1355,     5,    28,     6,    52,   154,\n",
       "          462,    33,    89,    78,   285,    16,   145,    95]],\n",
       "      dtype=int32)"
      ]
     },
     "execution_count": 37,
     "metadata": {},
     "output_type": "execute_result"
    }
   ],
   "source": [
    "x_train[:2]"
   ]
  },
  {
   "cell_type": "code",
   "execution_count": 38,
   "metadata": {},
   "outputs": [
    {
     "data": {
      "text/plain": [
       "array([1, 0])"
      ]
     },
     "execution_count": 38,
     "metadata": {},
     "output_type": "execute_result"
    }
   ],
   "source": [
    "y_train[:2]"
   ]
  },
  {
   "cell_type": "code",
   "execution_count": 39,
   "metadata": {},
   "outputs": [
    {
     "name": "stdout",
     "output_type": "stream",
     "text": [
      "_________________________________________________________________\n",
      "Layer (type)                 Output Shape              Param #   \n",
      "=================================================================\n",
      "embedding_1 (Embedding)      (None, None, 128)         2560000   \n",
      "_________________________________________________________________\n",
      "lstm_1 (LSTM)                (None, 128)               131584    \n",
      "_________________________________________________________________\n",
      "dense_1 (Dense)              (None, 1)                 129       \n",
      "=================================================================\n",
      "Total params: 2,691,713\n",
      "Trainable params: 2,691,713\n",
      "Non-trainable params: 0\n",
      "_________________________________________________________________\n"
     ]
    }
   ],
   "source": [
    "model = Sequential()\n",
    "model.add(Embedding(max_words, 128))\n",
    "model.add(LSTM(128, dropout=0.5, recurrent_dropout=0.5))\n",
    "model.add(Dense(1, activation='sigmoid'))\n",
    "model.summary()"
   ]
  },
  {
   "cell_type": "code",
   "execution_count": 40,
   "metadata": {},
   "outputs": [
    {
     "name": "stdout",
     "output_type": "stream",
     "text": [
      "Train on 25000 samples, validate on 25000 samples\n",
      "Epoch 1/10\n",
      "25000/25000 [==============================] - 91s 4ms/step - loss: 0.5094 - acc: 0.7469 - val_loss: 0.4448 - val_acc: 0.7915\n",
      "Epoch 2/10\n",
      "25000/25000 [==============================] - 96s 4ms/step - loss: 0.3672 - acc: 0.8432 - val_loss: 0.3990 - val_acc: 0.8238\n",
      "Epoch 3/10\n",
      "25000/25000 [==============================] - 91s 4ms/step - loss: 0.2901 - acc: 0.8804 - val_loss: 0.3911 - val_acc: 0.8376\n",
      "Epoch 4/10\n",
      "25000/25000 [==============================] - 97s 4ms/step - loss: 0.2424 - acc: 0.9031 - val_loss: 0.4128 - val_acc: 0.8310\n",
      "Epoch 5/10\n",
      "25000/25000 [==============================] - 101s 4ms/step - loss: 0.2149 - acc: 0.9176 - val_loss: 0.4660 - val_acc: 0.8284\n",
      "Epoch 6/10\n",
      "25000/25000 [==============================] - 95s 4ms/step - loss: 0.1661 - acc: 0.9376 - val_loss: 0.4941 - val_acc: 0.8264\n",
      "Epoch 7/10\n",
      "25000/25000 [==============================] - 120s 5ms/step - loss: 0.1298 - acc: 0.9525 - val_loss: 0.5911 - val_acc: 0.8178\n",
      "Epoch 8/10\n",
      "25000/25000 [==============================] - 196s 8ms/step - loss: 0.1038 - acc: 0.9643 - val_loss: 0.6305 - val_acc: 0.8155\n",
      "Epoch 9/10\n",
      "25000/25000 [==============================] - 205s 8ms/step - loss: 0.0858 - acc: 0.9705 - val_loss: 0.7790 - val_acc: 0.8115\n",
      "Epoch 10/10\n",
      "25000/25000 [==============================] - 98s 4ms/step - loss: 0.0752 - acc: 0.9734 - val_loss: 0.7172 - val_acc: 0.8190\n"
     ]
    }
   ],
   "source": [
    "model.compile(loss='binary_crossentropy', optimizer='adam', metrics=['accuracy'])\n",
    "\n",
    "history = model.fit(x_train, y_train,\n",
    "          batch_size=batch_size,\n",
    "          epochs=10,\n",
    "          validation_data=(x_test, y_test))"
   ]
  },
  {
   "cell_type": "code",
   "execution_count": 41,
   "metadata": {},
   "outputs": [
    {
     "name": "stdout",
     "output_type": "stream",
     "text": [
      "25000/25000 [==============================] - 17s 684us/step\n"
     ]
    },
    {
     "data": {
      "text/plain": [
       "(0.7171711131763459, 0.819)"
      ]
     },
     "execution_count": 41,
     "metadata": {},
     "output_type": "execute_result"
    }
   ],
   "source": [
    "loss, acc = model.evaluate(x_test, y_test, batch_size=batch_size)\n",
    "loss, acc"
   ]
  },
  {
   "cell_type": "code",
   "execution_count": 42,
   "metadata": {},
   "outputs": [
    {
     "data": {
      "image/png": "[encoded data removed]",
      "text/plain": [
       "<Figure size 864x504 with 3 Axes>"
      ]
     },
     "metadata": {},
     "output_type": "display_data"
    }
   ],
   "source": [
    "fig, ax1 = plt.subplots(1,1,figsize=(12,7))\n",
    "ax1.plot(history.epoch, history.history['loss'], marker='^', color='purple')\n",
    "ax1.set_xlabel('epochs')\n",
    "ax1.set_ylabel('loss', color='purple')\n",
    "ax1.tick_params('y', colors='purple')\n",
    "\n",
    "ax2 = ax1.twinx()\n",
    "plt.plot(history.epoch, history.history['acc'], marker='+', color='green', label='train')\n",
    "ax2.set_ylim(0,1)\n",
    "\n",
    "ax3 = ax1.twinx()\n",
    "plt.plot(history.epoch, history.history['val_acc'], marker='*', color='red', label='validation')\n",
    "ax3.set_ylim(0,1)\n",
    "\n",
    "fig.suptitle('imdb sentiment reviews');\n",
    "fig.legend();"
   ]
  },
  {
   "cell_type": "code",
   "execution_count": 43,
   "metadata": {},
   "outputs": [
    {
     "data": {
      "text/plain": [
       "(20000, 128)"
      ]
     },
     "execution_count": 43,
     "metadata": {},
     "output_type": "execute_result"
    }
   ],
   "source": [
    "embedding = model.get_layer('embedding_1').get_weights()\n",
    "embedding[0].shape"
   ]
  },
  {
   "cell_type": "markdown",
   "metadata": {},
   "source": [
    "```\n",
    "\n",
    "\"Word embeddings\" are a family of natural language processing techniques aiming at mapping semantic meaning into a geometric space. This is done by associating a numeric vector to every word in a dictionary, such that the distance (e.g. L2 distance or more commonly cosine distance) between any two vectors would capture part of the semantic relationship between the two associated words. The geometric space formed by these vectors is called an embedding space.\n",
    "\n",
    "For instance, \"coconut\" and \"polar bear\" are words that are semantically quite different, so a reasonable embedding space would represent them as vectors that would be very far apart. But \"kitchen\" and \"dinner\" are related words, so they should be embedded close to each other.\n",
    "\n",
    "The most common application of this layer is for text processing. Let's see a simple example. Our training set consists only of two phrases:\n",
    "\n",
    "Hope to see you soon\n",
    "Nice to see you again\n",
    "\n",
    "So we can encode these phrases by assigning each word a unique integer number (by order of appearance in our training dataset for example). Then our phrases could be rewritten as:\n",
    "\n",
    "[0, 1, 2, 3, 4]\n",
    "[5, 1, 2, 3, 6]\n",
    "\n",
    "Now imagine we want to train a network whose first layer is an embeding layer. In this case, we should initialize it as follows:\n",
    "\n",
    "Embedding(7, 2, input_length=5)\n",
    "\n",
    "The first argument (7) is the number of distinct words in the training set. The second argument (2) indicates the size of the embedding vectors. The input_length argumet, of course, determines the size of each input sequence.\n",
    "\n",
    "Once the network has been trained, we can get the weights of the embedding layer, which in this case will be of size (7, 2) and can be thought as the table used to map integers to embedding vectors:\n",
    "\n",
    "+------------+------------+\n",
    "|   index    |  Embedding |\n",
    "+------------+------------+\n",
    "|     0      | [1.2, 3.1] |\n",
    "|     1      | [0.1, 4.2] |\n",
    "|     2      | [1.0, 3.1] |\n",
    "|     3      | [0.3, 2.1] |\n",
    "|     4      | [2.2, 1.4] |\n",
    "|     5      | [0.7, 1.7] |\n",
    "|     6      | [4.1, 2.0] |\n",
    "+------------+------------+\n",
    "\n",
    "So according to these embeddings, our second training phrase will be represented as:\n",
    "\n",
    "[[0.7, 1.7], [0.1, 4.2], [1.0, 3.1], [0.3, 2.1], [4.1, 2.0]]\n",
    "\n",
    "- Word embeddings provide a dense representation of words and their relative meanings.\n",
    "- They are an improvement over sparse representations used in simpler bag of word model representations.\n",
    "- Word embeddings can be learned from text data and reused among projects. They can also be learned as part of fitting a neural network on text data.\n",
    "\n",
    "```"
   ]
  },
  {
   "cell_type": "code",
   "execution_count": 44,
   "metadata": {},
   "outputs": [
    {
     "name": "stdout",
     "output_type": "stream",
     "text": [
      "i really liked the movie and had fun. Sentiment: 0.83\n",
      "this movie was terrible and bad. Sentiment: 0.35\n"
     ]
    }
   ],
   "source": [
    "#predict sentiment from reviews\n",
    "bad = \"this movie was terrible and bad\"\n",
    "good = \"i really liked the movie and had fun\"\n",
    "for review in [good,bad]:\n",
    "    tmp = []\n",
    "    for word in review.split(\" \"):\n",
    "        tmp.append(word_to_id[word])\n",
    "    tmp_padded = sequence.pad_sequences([tmp], maxlen=line_length) \n",
    "    print(\"{}. Sentiment: {:.2f}\".format(  review, model.predict(np.array([tmp_padded][0]))[0][0]  ))"
   ]
  },
  {
   "cell_type": "code",
   "execution_count": null,
   "metadata": {},
   "outputs": [],
   "source": []
  }
 ],
 "metadata": {
  "kernelspec": {
   "display_name": "Python 3",
   "language": "python",
   "name": "python3"
  },
  "language_info": {
   "codemirror_mode": {
    "name": "ipython",
    "version": 3
   },
   "file_extension": ".py",
   "mimetype": "text/x-python",
   "name": "python",
   "nbconvert_exporter": "python",
   "pygments_lexer": "ipython3",
   "version": "3.6.5"
  }
 },
 "nbformat": 4,
 "nbformat_minor": 2
}
