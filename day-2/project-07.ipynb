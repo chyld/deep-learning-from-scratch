{
 "cells": [
  {
   "cell_type": "code",
   "execution_count": 2,
   "metadata": {},
   "outputs": [
    {
     "name": "stderr",
     "output_type": "stream",
     "text": [
      "/home/ubuntu/anaconda3/envs/tensorflow_p36/lib/python3.6/site-packages/h5py/__init__.py:36: FutureWarning: Conversion of the second argument of issubdtype from `float` to `np.floating` is deprecated. In future, it will be treated as `np.float64 == np.dtype(float).type`.\n",
      "  from ._conv import register_converters as _register_converters\n"
     ]
    },
    {
     "name": "stdout",
     "output_type": "stream",
     "text": [
      "/device:CPU:0 \n",
      "/device:GPU:0 device: 0, name: Tesla V100-SXM2-16GB, pci bus id: 0000:00:1b.0, compute capability: 7.0\n",
      "/device:GPU:1 device: 1, name: Tesla V100-SXM2-16GB, pci bus id: 0000:00:1c.0, compute capability: 7.0\n",
      "/device:GPU:2 device: 2, name: Tesla V100-SXM2-16GB, pci bus id: 0000:00:1d.0, compute capability: 7.0\n",
      "/device:GPU:3 device: 3, name: Tesla V100-SXM2-16GB, pci bus id: 0000:00:1e.0, compute capability: 7.0\n"
     ]
    }
   ],
   "source": [
    "from tensorflow.python.client import device_lib\n",
    "for d in device_lib.list_local_devices():\n",
    "    print(d.name, d.physical_device_desc)"
   ]
  },
  {
   "cell_type": "code",
   "execution_count": 3,
   "metadata": {},
   "outputs": [
    {
     "name": "stderr",
     "output_type": "stream",
     "text": [
      "Using TensorFlow backend.\n"
     ]
    }
   ],
   "source": [
    "from keras import backend as K\n",
    "cfg = K.tf.ConfigProto()\n",
    "cfg.gpu_options.allow_growth = True\n",
    "K.set_session(K.tf.Session(config=cfg))"
   ]
  },
  {
   "cell_type": "code",
   "execution_count": 4,
   "metadata": {},
   "outputs": [
    {
     "name": "stdout",
     "output_type": "stream",
     "text": [
      "Pixiedust database opened successfully\n"
     ]
    },
    {
     "data": {
      "text/html": [
       "\n",
       "        <div style=\"margin:10px\">\n",
       "            <a href=\"https://github.com/ibm-watson-data-lab/pixiedust\" target=\"_new\">\n",
       "                <img src=\"https://github.com/ibm-watson-data-lab/pixiedust/raw/master/docs/_static/pd_icon32.png\" style=\"float:left;margin-right:10px\"/>\n",
       "            </a>\n",
       "            <span>Pixiedust version 1.1.11</span>\n",
       "        </div>\n",
       "        "
      ],
      "text/plain": [
       "<IPython.core.display.HTML object>"
      ]
     },
     "metadata": {},
     "output_type": "display_data"
    }
   ],
   "source": [
    "import numpy as np\n",
    "import pandas as pd\n",
    "import matplotlib.pyplot as plt\n",
    "import pixiedust\n",
    "import keras\n",
    "from keras.models import Sequential\n",
    "from keras.layers import Conv2D, MaxPooling2D, Flatten, Dense, Dropout, BatchNormalization\n",
    "from keras import optimizers\n",
    "import keras.backend as K\n",
    "from keras.utils import to_categorical\n",
    "from sklearn.preprocessing import MinMaxScaler\n",
    "from sklearn.datasets import load_iris\n",
    "from keras.datasets import fashion_mnist, mnist, cifar100\n",
    "\n",
    "np.set_printoptions(suppress=True)\n",
    "%matplotlib inline"
   ]
  },
  {
   "cell_type": "code",
   "execution_count": 5,
   "metadata": {},
   "outputs": [],
   "source": [
    "(x_train, y_train), (x_test, y_test) = cifar100.load_data(label_mode='fine')"
   ]
  },
  {
   "cell_type": "code",
   "execution_count": 6,
   "metadata": {},
   "outputs": [
    {
     "data": {
      "text/plain": [
       "((50000, 32, 32, 3), (50000, 1))"
      ]
     },
     "execution_count": 6,
     "metadata": {},
     "output_type": "execute_result"
    }
   ],
   "source": [
    "x_train.shape, y_train.shape"
   ]
  },
  {
   "cell_type": "code",
   "execution_count": 7,
   "metadata": {},
   "outputs": [],
   "source": [
    "x_train = x_train.astype('float32')\n",
    "x_test  = x_test.astype('float32')\n",
    "x_train /= 255\n",
    "x_test /= 255\n",
    "y_train = to_categorical(y_train, 100)\n",
    "y_test = to_categorical(y_test, 100)"
   ]
  },
  {
   "cell_type": "code",
   "execution_count": 8,
   "metadata": {},
   "outputs": [
    {
     "data": {
      "text/plain": [
       "((50000, 32, 32, 3), (50000, 100))"
      ]
     },
     "execution_count": 8,
     "metadata": {},
     "output_type": "execute_result"
    }
   ],
   "source": [
    "x_train.shape, y_train.shape"
   ]
  },
  {
   "cell_type": "code",
   "execution_count": 9,
   "metadata": {},
   "outputs": [
    {
     "data": {
      "image/png": "[encoded data removed]",
      "text/plain": [
       "<Figure size 432x288 with 1 Axes>"
      ]
     },
     "metadata": {},
     "output_type": "display_data"
    }
   ],
   "source": [
    "img = x_train[0]\n",
    "plt.imshow(img);"
   ]
  },
  {
   "cell_type": "code",
   "execution_count": 10,
   "metadata": {},
   "outputs": [
    {
     "data": {
      "text/plain": [
       "array([0., 0., 0., 0., 0., 0., 0., 0., 0., 0., 0., 0., 0., 0., 0., 0., 0.,\n",
       "       0., 0., 1., 0., 0., 0., 0., 0., 0., 0., 0., 0., 0., 0., 0., 0., 0.,\n",
       "       0., 0., 0., 0., 0., 0., 0., 0., 0., 0., 0., 0., 0., 0., 0., 0., 0.,\n",
       "       0., 0., 0., 0., 0., 0., 0., 0., 0., 0., 0., 0., 0., 0., 0., 0., 0.,\n",
       "       0., 0., 0., 0., 0., 0., 0., 0., 0., 0., 0., 0., 0., 0., 0., 0., 0.,\n",
       "       0., 0., 0., 0., 0., 0., 0., 0., 0., 0., 0., 0., 0., 0., 0.],\n",
       "      dtype=float32)"
      ]
     },
     "execution_count": 10,
     "metadata": {},
     "output_type": "execute_result"
    }
   ],
   "source": [
    "y_train[0]"
   ]
  },
  {
   "cell_type": "code",
   "execution_count": 11,
   "metadata": {},
   "outputs": [],
   "source": [
    "input_shape = (32, 32, 3)"
   ]
  },
  {
   "cell_type": "code",
   "execution_count": 12,
   "metadata": {
    "scrolled": false
   },
   "outputs": [
    {
     "name": "stdout",
     "output_type": "stream",
     "text": [
      "_________________________________________________________________\n",
      "Layer (type)                 Output Shape              Param #   \n",
      "=================================================================\n",
      "L0 (Conv2D)                  (None, 30, 30, 128)       3584      \n",
      "_________________________________________________________________\n",
      "batch_normalization_1 (Batch (None, 30, 30, 128)       512       \n",
      "_________________________________________________________________\n",
      "max_pooling2d_1 (MaxPooling2 (None, 15, 15, 128)       0         \n",
      "_________________________________________________________________\n",
      "L1 (Conv2D)                  (None, 13, 13, 256)       295168    \n",
      "_________________________________________________________________\n",
      "batch_normalization_2 (Batch (None, 13, 13, 256)       1024      \n",
      "_________________________________________________________________\n",
      "max_pooling2d_2 (MaxPooling2 (None, 6, 6, 256)         0         \n",
      "_________________________________________________________________\n",
      "L2 (Conv2D)                  (None, 4, 4, 512)         1180160   \n",
      "_________________________________________________________________\n",
      "batch_normalization_3 (Batch (None, 4, 4, 512)         2048      \n",
      "_________________________________________________________________\n",
      "max_pooling2d_3 (MaxPooling2 (None, 2, 2, 512)         0         \n",
      "_________________________________________________________________\n",
      "flatten_1 (Flatten)          (None, 2048)              0         \n",
      "_________________________________________________________________\n",
      "dense_1 (Dense)              (None, 1024)              2098176   \n",
      "_________________________________________________________________\n",
      "dropout_1 (Dropout)          (None, 1024)              0         \n",
      "_________________________________________________________________\n",
      "dense_2 (Dense)              (None, 100)               102500    \n",
      "=================================================================\n",
      "Total params: 3,683,172\n",
      "Trainable params: 3,681,380\n",
      "Non-trainable params: 1,792\n",
      "_________________________________________________________________\n"
     ]
    }
   ],
   "source": [
    "model = Sequential()\n",
    "\n",
    "model.add(Conv2D(128, (3,3), activation='relu', input_shape=input_shape, name='L0'))\n",
    "model.add(BatchNormalization())\n",
    "model.add(MaxPooling2D(pool_size=2))\n",
    "model.add(Conv2D(256, (3,3), activation='relu', name='L1'))\n",
    "model.add(BatchNormalization())\n",
    "model.add(MaxPooling2D(pool_size=2))\n",
    "model.add(Conv2D(512, (3,3), activation='relu', name='L2'))\n",
    "model.add(BatchNormalization())\n",
    "model.add(MaxPooling2D(pool_size=2))\n",
    "\n",
    "model.add(Flatten())         \n",
    "model.add(Dense(1024, activation='relu')) \n",
    "model.add(Dropout(0.2))                  \n",
    "model.add(Dense(100, activation='softmax'))\n",
    "\n",
    "opt = optimizers.RMSprop(lr=0.001)\n",
    "model.compile(loss='categorical_crossentropy', optimizer=opt, metrics=['accuracy'])\n",
    "model.summary()"
   ]
  },
  {
   "cell_type": "code",
   "execution_count": 13,
   "metadata": {},
   "outputs": [
    {
     "data": {
      "text/plain": [
       "{'name': 'L0',\n",
       " 'trainable': True,\n",
       " 'batch_input_shape': (None, 32, 32, 3),\n",
       " 'dtype': 'float32',\n",
       " 'filters': 128,\n",
       " 'kernel_size': (3, 3),\n",
       " 'strides': (1, 1),\n",
       " 'padding': 'valid',\n",
       " 'data_format': 'channels_last',\n",
       " 'dilation_rate': (1, 1),\n",
       " 'activation': 'relu',\n",
       " 'use_bias': True,\n",
       " 'kernel_initializer': {'class_name': 'VarianceScaling',\n",
       "  'config': {'scale': 1.0,\n",
       "   'mode': 'fan_avg',\n",
       "   'distribution': 'uniform',\n",
       "   'seed': None}},\n",
       " 'bias_initializer': {'class_name': 'Zeros', 'config': {}},\n",
       " 'kernel_regularizer': None,\n",
       " 'bias_regularizer': None,\n",
       " 'activity_regularizer': None,\n",
       " 'kernel_constraint': None,\n",
       " 'bias_constraint': None}"
      ]
     },
     "execution_count": 13,
     "metadata": {},
     "output_type": "execute_result"
    }
   ],
   "source": [
    "model.get_layer('L0').get_config()"
   ]
  },
  {
   "cell_type": "code",
   "execution_count": 14,
   "metadata": {},
   "outputs": [
    {
     "name": "stdout",
     "output_type": "stream",
     "text": [
      "Train on 35000 samples, validate on 15000 samples\n",
      "Epoch 1/30\n",
      " - 17s - loss: 4.1501 - acc: 0.1027 - val_loss: 4.2456 - val_acc: 0.1025\n",
      "Epoch 2/30\n",
      " - 16s - loss: 3.6658 - acc: 0.1568 - val_loss: 4.3302 - val_acc: 0.1382\n",
      "Epoch 3/30\n",
      " - 16s - loss: 3.4878 - acc: 0.1916 - val_loss: 4.0482 - val_acc: 0.1668\n",
      "Epoch 4/30\n",
      " - 16s - loss: 3.3049 - acc: 0.2212 - val_loss: 3.4504 - val_acc: 0.2150\n",
      "Epoch 5/30\n",
      " - 16s - loss: 3.0804 - acc: 0.2569 - val_loss: 3.0848 - val_acc: 0.2627\n",
      "Epoch 6/30\n",
      " - 16s - loss: 2.8347 - acc: 0.2989 - val_loss: 3.3013 - val_acc: 0.2289\n",
      "Epoch 7/30\n",
      " - 16s - loss: 2.6064 - acc: 0.3393 - val_loss: 3.1583 - val_acc: 0.2929\n",
      "Epoch 8/30\n",
      " - 16s - loss: 2.3795 - acc: 0.3827 - val_loss: 3.1331 - val_acc: 0.2993\n",
      "Epoch 9/30\n",
      " - 16s - loss: 2.1546 - acc: 0.4325 - val_loss: 3.1326 - val_acc: 0.3200\n",
      "Epoch 10/30\n",
      " - 16s - loss: 1.9356 - acc: 0.4805 - val_loss: 2.8338 - val_acc: 0.3672\n",
      "Epoch 11/30\n",
      " - 16s - loss: 1.7214 - acc: 0.5309 - val_loss: 3.0196 - val_acc: 0.3479\n",
      "Epoch 12/30\n",
      " - 16s - loss: 1.5165 - acc: 0.5788 - val_loss: 2.9875 - val_acc: 0.3508\n",
      "Epoch 13/30\n",
      " - 16s - loss: 1.3321 - acc: 0.6268 - val_loss: 3.1063 - val_acc: 0.3691\n",
      "Epoch 14/30\n",
      " - 16s - loss: 1.1534 - acc: 0.6703 - val_loss: 3.3063 - val_acc: 0.3645\n",
      "Epoch 15/30\n",
      " - 16s - loss: 1.0024 - acc: 0.7119 - val_loss: 5.8298 - val_acc: 0.2523\n",
      "Epoch 16/30\n",
      " - 16s - loss: 0.8834 - acc: 0.7482 - val_loss: 4.2640 - val_acc: 0.3463\n",
      "Epoch 17/30\n",
      " - 16s - loss: 0.7785 - acc: 0.7751 - val_loss: 3.7785 - val_acc: 0.3547\n",
      "Epoch 18/30\n",
      " - 16s - loss: 0.6888 - acc: 0.8027 - val_loss: 4.3062 - val_acc: 0.3539\n",
      "Epoch 19/30\n",
      " - 16s - loss: 0.6205 - acc: 0.8228 - val_loss: 4.2673 - val_acc: 0.3827\n",
      "Epoch 20/30\n",
      " - 16s - loss: 0.5646 - acc: 0.8398 - val_loss: 5.5056 - val_acc: 0.3442\n",
      "Epoch 21/30\n",
      " - 16s - loss: 0.5288 - acc: 0.8508 - val_loss: 4.5847 - val_acc: 0.3765\n",
      "Epoch 22/30\n",
      " - 16s - loss: 0.5033 - acc: 0.8645 - val_loss: 5.0109 - val_acc: 0.3391\n",
      "Epoch 23/30\n",
      " - 16s - loss: 0.4657 - acc: 0.8704 - val_loss: 4.7164 - val_acc: 0.3561\n",
      "Epoch 24/30\n",
      " - 16s - loss: 0.4373 - acc: 0.8814 - val_loss: 4.9782 - val_acc: 0.3897\n",
      "Epoch 25/30\n",
      " - 16s - loss: 0.4128 - acc: 0.8916 - val_loss: 5.1255 - val_acc: 0.3841\n",
      "Epoch 26/30\n",
      " - 16s - loss: 0.3985 - acc: 0.8963 - val_loss: 5.4589 - val_acc: 0.4031\n",
      "Epoch 27/30\n",
      " - 16s - loss: 0.3785 - acc: 0.9044 - val_loss: 5.2370 - val_acc: 0.3849\n",
      "Epoch 28/30\n",
      " - 16s - loss: 0.3897 - acc: 0.9034 - val_loss: 6.8112 - val_acc: 0.3603\n",
      "Epoch 29/30\n",
      " - 16s - loss: 0.3712 - acc: 0.9081 - val_loss: 5.7814 - val_acc: 0.3743\n",
      "Epoch 30/30\n",
      " - 16s - loss: 0.3662 - acc: 0.9117 - val_loss: 6.0912 - val_acc: 0.3772\n"
     ]
    }
   ],
   "source": [
    "history = model.fit(x_train, y_train, epochs=30, batch_size=16, verbose=2, validation_split=0.3, shuffle=True)"
   ]
  },
  {
   "cell_type": "code",
   "execution_count": 17,
   "metadata": {},
   "outputs": [
    {
     "data": {
      "image/png": "[encoded data removed]",
      "text/plain": [
       "<Figure size 864x504 with 3 Axes>"
      ]
     },
     "metadata": {},
     "output_type": "display_data"
    }
   ],
   "source": [
    "fig, ax1 = plt.subplots(1,1,figsize=(12,7))\n",
    "ax1.plot(history.epoch, history.history['loss'], marker='^', color='purple')\n",
    "ax1.set_xlabel('epochs')\n",
    "ax1.set_ylabel('loss', color='purple')\n",
    "ax1.tick_params('y', colors='purple')\n",
    "\n",
    "ax2 = ax1.twinx()\n",
    "plt.plot(history.epoch, history.history['acc'], marker='+', color='green', label='train')\n",
    "ax2.set_ylim(0,1)\n",
    "\n",
    "ax3 = ax1.twinx()\n",
    "plt.plot(history.epoch, history.history['val_acc'], marker='*', color='red', label='validation')\n",
    "ax3.set_ylim(0,1)\n",
    "\n",
    "fig.suptitle('cifar-100');\n",
    "fig.legend();"
   ]
  },
  {
   "cell_type": "code",
   "execution_count": null,
   "metadata": {},
   "outputs": [],
   "source": []
  }
 ],
 "metadata": {
  "kernelspec": {
   "display_name": "Python 3",
   "language": "python",
   "name": "python3"
  },
  "language_info": {
   "codemirror_mode": {
    "name": "ipython",
    "version": 3
   },
   "file_extension": ".py",
   "mimetype": "text/x-python",
   "name": "python",
   "nbconvert_exporter": "python",
   "pygments_lexer": "ipython3",
   "version": "3.6.4"
  }
 },
 "nbformat": 4,
 "nbformat_minor": 2
}
